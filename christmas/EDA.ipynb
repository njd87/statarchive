{
 "cells": [
  {
   "cell_type": "code",
   "execution_count": 106,
   "metadata": {},
   "outputs": [],
   "source": [
    "import numpy as np\n",
    "import pandas as pd\n",
    "import matplotlib.pyplot as plt\n",
    "import seaborn as sns\n",
    "from bs4 import BeautifulSoup\n",
    "import requests\n",
    "\n",
    "headers = headers = {\"User-Agent\": \"Mozilla/5.0 (X11; CrOS x86_64 12871.102.0) AppleWebKit/537.36 (KHTML, like Gecko) Chrome/81.0.4044.141 Safari/537.36\"}"
   ]
  },
  {
   "cell_type": "markdown",
   "metadata": {},
   "source": [
    "# Data Collection\n",
    "\n",
    "## Target Data\n",
    "Want to predict American spending on Christmas in 2023 based on data in previous years. Data collected from National Retail Federation"
   ]
  },
  {
   "cell_type": "code",
   "execution_count": 107,
   "metadata": {},
   "outputs": [
    {
     "data": {
      "image/png": "[encoded data removed]",
      "text/plain": [
       "<Figure size 640x480 with 1 Axes>"
      ]
     },
     "metadata": {},
     "output_type": "display_data"
    }
   ],
   "source": [
    "time = [2003, 2004, 2005, 2006, 2007, 2008, 2009, 2010, 2011, 2012, 2013, 2014, 2015, 2016, 2017, 2018, 2019, 2020, 2021, 2022]\n",
    "\n",
    "# in billions of dollars\n",
    "nrf_data = [437.6, 467.2, 496.0, 512.1, 526.0, 501.5, 502.7, 528.8, 553.3, 567.6, 583.2, 611.1, 628.0, 646.7, 678.9, 690.8, 716.9, 782.3, 881.6, 929.5]\n",
    "\n",
    "\n",
    "# create initial plot of the data\n",
    "\n",
    "\n",
    "plt.scatter(time, nrf_data, marker='o')\n",
    "\n",
    "plt.xlabel('Year')\n",
    "plt.ylabel('Total Spending (in billions)')\n",
    "plt.title('American Christmas Spending per Year')\n",
    "plt.xticks(time[::2])\n",
    "plt.grid()\n",
    "plt.show()"
   ]
  },
  {
   "cell_type": "markdown",
   "metadata": {},
   "source": [
    "## Features\n",
    "\n",
    "Creating features here might be a bit difficult. Here's some main ideas:\n",
    "\n",
    "- [x] American GDP\n",
    "- [x] American Population\n",
    "- [x] Median income (need current year estimate) *\n",
    "- [ ] Previous year's spending (note that to include this, we need to remove 2003)\n",
    "- [x] Unemployment rate (nned current year estimate)\n",
    "- [x] Consumer Confidence Index\n",
    "- [x] Interest Rate\n",
    "- [x] Inflation Rate\n",
    "- [ ] Taxation (will omit for now)\n",
    "- [x] Real estate market\n",
    "\n",
    "It's also important we get the information for the current year!"
   ]
  },
  {
   "cell_type": "markdown",
   "metadata": {},
   "source": [
    "### GDP"
   ]
  },
  {
   "cell_type": "code",
   "execution_count": 108,
   "metadata": {},
   "outputs": [],
   "source": [
    "# US GDP (in billions) Data 2003-2022\n",
    "# from https://www.macrotrends.net/countries/USA/united-states/gdp-gross-domestic-product\n",
    "us_gdp = [\n",
    "    11456.44,\n",
    "    12217.19,\n",
    "    13039.20,\n",
    "    13815.59,\n",
    "    14474.23,\n",
    "    14769.86,\n",
    "    14478.06,\n",
    "    15048.96,\n",
    "    15599.73,\n",
    "    16253.97,\n",
    "    16843.19,\n",
    "    17550.68,\n",
    "    18206.02,\n",
    "    18695.11,\n",
    "    19477.34,\n",
    "    20533.06,\n",
    "    21380.98,\n",
    "    21060.47,\n",
    "    23315.08,\n",
    "    25462.70\n",
    "]\n",
    "\n",
    "\n",
    "# GDP for 2023 (best estimate)\n",
    "# from https://www.visualcapitalist.com/visualizing-u-s-gdp-by-industry-in-2023/, 26.5\n",
    "\n",
    "us_gdp += [26500.00]"
   ]
  },
  {
   "cell_type": "markdown",
   "metadata": {},
   "source": [
    "### Population"
   ]
  },
  {
   "cell_type": "code",
   "execution_count": 147,
   "metadata": {},
   "outputs": [],
   "source": [
    "# US population\n",
    "# Using beautifulsoup from same website\n",
    "url_pop = 'https://www.macrotrends.net/countries/USA/united-states/population'\n",
    "content_pop = requests.get(url_pop, headers=headers)"
   ]
  },
  {
   "cell_type": "code",
   "execution_count": 148,
   "metadata": {},
   "outputs": [
    {
     "ename": "IndexError",
     "evalue": "list index out of range",
     "output_type": "error",
     "traceback": [
      "\u001b[0;31m---------------------------------------------------------------------------\u001b[0m",
      "\u001b[0;31mIndexError\u001b[0m                                Traceback (most recent call last)",
      "Cell \u001b[0;32mIn [148], line 4\u001b[0m\n\u001b[1;32m      1\u001b[0m s \u001b[38;5;241m=\u001b[39m BeautifulSoup(content_pop\u001b[38;5;241m.\u001b[39mtext, \u001b[38;5;124m'\u001b[39m\u001b[38;5;124mhtml.parser\u001b[39m\u001b[38;5;124m'\u001b[39m)\n\u001b[1;32m      3\u001b[0m \u001b[38;5;66;03m# select table\u001b[39;00m\n\u001b[0;32m----> 4\u001b[0m a \u001b[38;5;241m=\u001b[39m \u001b[43ms\u001b[49m\u001b[38;5;241;43m.\u001b[39;49m\u001b[43mfind_all\u001b[49m\u001b[43m(\u001b[49m\u001b[38;5;124;43m'\u001b[39;49m\u001b[38;5;124;43mtable\u001b[39;49m\u001b[38;5;124;43m'\u001b[39;49m\u001b[43m,\u001b[49m\u001b[43m \u001b[49m\u001b[43mclass_\u001b[49m\u001b[38;5;241;43m=\u001b[39;49m\u001b[38;5;124;43m'\u001b[39;49m\u001b[38;5;124;43mhistorical_data_table table table-striped table-bordered\u001b[39;49m\u001b[38;5;124;43m'\u001b[39;49m\u001b[43m)\u001b[49m\u001b[43m[\u001b[49m\u001b[38;5;241;43m1\u001b[39;49m\u001b[43m]\u001b[49m\n\u001b[1;32m      6\u001b[0m \u001b[38;5;66;03m# starts from idx 2 is 2023, idx 22 is 2003\u001b[39;00m\n\u001b[1;32m      7\u001b[0m us_pop \u001b[38;5;241m=\u001b[39m []\n",
      "\u001b[0;31mIndexError\u001b[0m: list index out of range"
     ]
    }
   ],
   "source": [
    "s = BeautifulSoup(content_pop.text, 'html.parser')\n",
    "\n",
    "# select table\n",
    "a = s.find_all('table', class_='historical_data_table table table-striped table-bordered')[1]\n",
    "\n",
    "# starts from idx 2 is 2023, idx 22 is 2003\n",
    "us_pop = []\n",
    "\n",
    "for i in range(22, 1, -1):\n",
    "    us_pop.append(int(a.find_all('tr')[i].text.strip()[5:16].replace(',', '')))"
   ]
  },
  {
   "cell_type": "markdown",
   "metadata": {},
   "source": [
    "### Income"
   ]
  },
  {
   "cell_type": "code",
   "execution_count": 111,
   "metadata": {},
   "outputs": [],
   "source": [
    "# US median income\n",
    "# From US Social Security\n",
    "url_income = 'https://www.ssa.gov/oact/cola/central.html'\n",
    "content_income = requests.get(url_income, headers=headers)"
   ]
  },
  {
   "cell_type": "code",
   "execution_count": 112,
   "metadata": {},
   "outputs": [],
   "source": [
    "income_soup = BeautifulSoup(content_income.text, 'html.parser')\n",
    "\n",
    "us_med_income = []\n",
    "\n",
    "for i in range(15, 35):\n",
    "    us_med_income.append(float(income_soup.find('table').find_all('tr')[i].text.split(' ')[3].replace(',', '')))\n",
    "\n",
    "# best estimates in this form are yet to exist, but it's safe to assume change has been in the range of 1-2k.\n",
    "\n",
    "us_med_income += [41500]   "
   ]
  },
  {
   "cell_type": "markdown",
   "metadata": {},
   "source": [
    "### Unemployment"
   ]
  },
  {
   "cell_type": "code",
   "execution_count": 113,
   "metadata": {},
   "outputs": [],
   "source": [
    "# Unemployment rate\n",
    "# from investopedia\n",
    "\n",
    "url_unem = 'https://www.investopedia.com/historical-us-unemployment-rate-by-year-7495494'\n",
    "content_unem = requests.get(url_unem, headers=headers)"
   ]
  },
  {
   "cell_type": "code",
   "execution_count": 114,
   "metadata": {},
   "outputs": [],
   "source": [
    "unem = BeautifulSoup(content_unem.text, 'html.parser')\n",
    "\n",
    "us_unem = []\n",
    "# 2003 to 2022 occurs at 76 through 95\n",
    "for i in range(76, 96):\n",
    "    data = unem.find('table', class_='mntl-sc-block-table__table').find_all('tr')[i].text\n",
    "    us_unem.append(float(data[6:data.find('%')]))\n",
    "\n",
    "# from statista, best estimate for 2023 is 3.5%\n",
    "    \n",
    "us_unem += [3.5]"
   ]
  },
  {
   "cell_type": "markdown",
   "metadata": {},
   "source": [
    "### Consumer Confidence Index"
   ]
  },
  {
   "cell_type": "code",
   "execution_count": 115,
   "metadata": {},
   "outputs": [],
   "source": [
    "# from OECD\n",
    "cci_df = pd.read_csv('data/DP_LIVE_26122023055003422.csv')\n",
    "\n",
    "cci_df = cci_df[cci_df['LOCATION'] == 'USA']\n",
    "\n",
    "cci_df['TIME'] = pd.to_datetime(cci_df['TIME'])\n",
    "\n",
    "us_cci = cci_df[(cci_df['TIME'].dt.year >= 2003) & (cci_df['TIME'].dt.month == 11)]['Value'].values"
   ]
  },
  {
   "cell_type": "markdown",
   "metadata": {},
   "source": [
    "### Interest Rate"
   ]
  },
  {
   "cell_type": "code",
   "execution_count": 116,
   "metadata": {},
   "outputs": [],
   "source": [
    "# US Intrest Rate per year\n",
    "# From FRED\n",
    "interest_df = pd.read_csv('data/FEDFUNDS.csv')\n",
    "\n",
    "# get things of interest\n",
    "interest_df['DATE'] = pd.to_datetime(interest_df['DATE'])\n",
    "filtered_interest_df = interest_df[(interest_df['DATE'].dt.year >= 2003) & (interest_df['DATE'].dt.year <= 2023) & (interest_df['DATE'].dt.month == 11) & (interest_df['DATE'].dt.day == 1)]\n",
    "us_interest = filtered_interest_df['FEDFUNDS'].values"
   ]
  },
  {
   "cell_type": "markdown",
   "metadata": {},
   "source": [
    "### Inflation Rate"
   ]
  },
  {
   "cell_type": "code",
   "execution_count": 117,
   "metadata": {},
   "outputs": [],
   "source": [
    "# US Inflation rate\n",
    "inflation_url = 'https://www.usinflationcalculator.com/inflation/current-inflation-rates/'\n",
    "inflation_content = requests.get(inflation_url, headers=headers)"
   ]
  },
  {
   "cell_type": "code",
   "execution_count": 118,
   "metadata": {},
   "outputs": [],
   "source": [
    "inflation_soup = BeautifulSoup(inflation_content.text, 'html.parser')\n",
    "\n",
    "us_inflation = []\n",
    "# Take November Inflation rate\n",
    "for i in range(21, 0, -1):\n",
    "    us_inflation.append(float(inflation_soup.find('table').find_all('tr')[i].text.split('\\n')[12]))"
   ]
  },
  {
   "cell_type": "markdown",
   "metadata": {},
   "source": [
    "### Real Estate"
   ]
  },
  {
   "cell_type": "code",
   "execution_count": 119,
   "metadata": {},
   "outputs": [],
   "source": [
    "# Real estate information\n",
    "# From FRED\n",
    "\n",
    "re_df = pd.read_csv('data/ASPUS.csv')\n",
    "\n",
    "re_df['DATE'] = pd.to_datetime(re_df['DATE'])\n",
    "\n",
    "# get most recent from this year and patch from previous years\n",
    "us_re = re_df[(re_df['DATE'].dt.year >= 2003) & (re_df['DATE'].dt.month == 7)]['ASPUS'].values"
   ]
  },
  {
   "cell_type": "markdown",
   "metadata": {},
   "source": [
    "## EDA"
   ]
  },
  {
   "cell_type": "code",
   "execution_count": 200,
   "metadata": {},
   "outputs": [],
   "source": [
    "variables = {\n",
    "    'year' : np.arange(2003, 2024),\n",
    "    'gdp' : us_gdp,\n",
    "    'population' : us_pop,\n",
    "    'unemployment_rate': us_unem,\n",
    "    'interest_rate' : us_interest,\n",
    "    'inflation_rate' : us_inflation,\n",
    "    'real_estate_sales' : us_re\n",
    "}\n",
    "\n",
    "df = pd.read_csv('data/raw_data.csv').drop('Unnamed: 0', axis=1).iloc[:-1]\n",
    "spending = pd.Series(nrf_data)\n",
    "\n",
    "\n",
    "test_data = pd.read_csv('data/raw_data.csv').drop('Unnamed: 0', axis=1).iloc[[-1]]"
   ]
  },
  {
   "cell_type": "code",
   "execution_count": 202,
   "metadata": {},
   "outputs": [
    {
     "name": "stderr",
     "output_type": "stream",
     "text": [
      "/Library/Frameworks/Python.framework/Versions/3.11/lib/python3.11/site-packages/sklearn/base.py:464: UserWarning: X does not have valid feature names, but StandardScaler was fitted with feature names\n",
      "  warnings.warn(\n"
     ]
    }
   ],
   "source": [
    "# first, we want to standardize all feature variables\n",
    "\n",
    "from sklearn.preprocessing import StandardScaler\n",
    "\n",
    "features = ['gdp', 'population', 'unemployment_rate', 'interest_rate', 'inflation_rate', 'real_estate_sales']\n",
    "\n",
    "s_training = StandardScaler()\n",
    "\n",
    "df[features] = s_training.fit_transform(df[features])\n",
    "\n",
    "test_data[features] = s_training.transform(test_data[features].values)"
   ]
  },
  {
   "cell_type": "code",
   "execution_count": 174,
   "metadata": {},
   "outputs": [],
   "source": [
    "# we also want to scale the target variable, but we will do so manually\n",
    "# so that we can unscale it later\n",
    "mu_y = spending.mean()\n",
    "sigma_y = spending.std()\n",
    "\n",
    "spending = (spending - mu_y) / (sigma_y)"
   ]
  },
  {
   "cell_type": "markdown",
   "metadata": {},
   "source": [
    "### Correlation\n",
    "\n",
    "First, let's take a look at the correlation coefficients of each with respect to the response"
   ]
  },
  {
   "cell_type": "code",
   "execution_count": 187,
   "metadata": {},
   "outputs": [
    {
     "data": {
      "image/png": "[encoded data removed]",
      "text/plain": [
       "<Figure size 640x480 with 1 Axes>"
      ]
     },
     "metadata": {},
     "output_type": "display_data"
    }
   ],
   "source": [
    "full_df = df.copy()[features]\n",
    "\n",
    "full_df['spending'] = spending\n",
    "\n",
    "full_df.corr()['spending'].plot(kind='bar')\n",
    "\n",
    "plt.xlabel('Feature')\n",
    "plt.ylabel('Correlation Coefficient')\n",
    "plt.title('Response correlation with features')\n",
    "\n",
    "plt.show()"
   ]
  },
  {
   "cell_type": "code",
   "execution_count": null,
   "metadata": {},
   "outputs": [],
   "source": []
  },
  {
   "cell_type": "markdown",
   "metadata": {},
   "source": [
    "So far, it seems that GDP, Population, Inflation Rate and Real Estate Sales are most highly correlated. However, we don't want any correlation within the"
   ]
  },
  {
   "cell_type": "code",
   "execution_count": null,
   "metadata": {},
   "outputs": [],
   "source": []
  }
 ],
 "metadata": {
  "kernelspec": {
   "display_name": "Python 3",
   "language": "python",
   "name": "python3"
  },
  "language_info": {
   "codemirror_mode": {
    "name": "ipython",
    "version": 3
   },
   "file_extension": ".py",
   "mimetype": "text/x-python",
   "name": "python",
   "nbconvert_exporter": "python",
   "pygments_lexer": "ipython3",
   "version": "3.11.0"
  }
 },
 "nbformat": 4,
 "nbformat_minor": 2
}
