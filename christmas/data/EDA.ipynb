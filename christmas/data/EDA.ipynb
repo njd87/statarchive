{
 "cells": [
  {
   "cell_type": "code",
   "execution_count": 67,
   "metadata": {},
   "outputs": [],
   "source": [
    "import numpy as np\n",
    "import pandas as pd\n",
    "import matplotlib.pyplot as plt\n",
    "import seaborn as sns\n",
    "from bs4 import BeautifulSoup\n",
    "import requests\n",
    "\n",
    "headers = headers = {\"User-Agent\": \"Mozilla/5.0 (X11; CrOS x86_64 12871.102.0) AppleWebKit/537.36 (KHTML, like Gecko) Chrome/81.0.4044.141 Safari/537.36\"}"
   ]
  },
  {
   "cell_type": "markdown",
   "metadata": {},
   "source": [
    "# Data Collection\n",
    "\n",
    "## Target Data\n",
    "Want to predict American spending on Christmas in 2023 based on data in previous years. Data collected from National Retail Federation"
   ]
  },
  {
   "cell_type": "code",
   "execution_count": 8,
   "metadata": {},
   "outputs": [
    {
     "data": {
      "image/png": "[encoded data removed]",
      "text/plain": [
       "<Figure size 640x480 with 1 Axes>"
      ]
     },
     "metadata": {},
     "output_type": "display_data"
    }
   ],
   "source": [
    "time = [2003, 2004, 2005, 2006, 2007, 2008, 2009, 2010, 2011, 2012, 2013, 2014, 2015, 2016, 2017, 2018, 2019, 2020, 2021, 2022]\n",
    "\n",
    "# in billions of dollars\n",
    "nrf_data = [437.6, 467.2, 496.0, 512.1, 526.0, 501.5, 502.7, 528.8, 553.3, 567.6, 583.2, 611.1, 628.0, 646.7, 678.9, 690.8, 716.9, 782.3, 881.6, 929.5]\n",
    "\n",
    "\n",
    "# create initial plot of the data\n",
    "\n",
    "\n",
    "plt.scatter(time, nrf_data, marker='o')\n",
    "\n",
    "plt.xlabel('Year')\n",
    "plt.ylabel('Total Spending (in billions)')\n",
    "plt.title('American Christmas Spending per Year')\n",
    "plt.xticks(time[::2])\n",
    "plt.grid()\n",
    "plt.show()"
   ]
  },
  {
   "cell_type": "markdown",
   "metadata": {},
   "source": [
    "## Features\n",
    "\n",
    "Creating features here might be a bit difficult. Here's some main ideas:\n",
    "\n",
    "- American GDP\n",
    "- American Population\n",
    "- Average income\n",
    "- Previous year's spending (note that to include this, we need to remove 2003)\n",
    "- Unemployment rate\n",
    "- Consumer Confidence Index\n",
    "- Interest Rate\n",
    "- Inflation Rate\n",
    "- Taxation\n",
    "- Real estate market\n",
    "\n",
    "It's also important we get the information for the current year!"
   ]
  },
  {
   "cell_type": "code",
   "execution_count": null,
   "metadata": {},
   "outputs": [],
   "source": [
    "# US GDP (in billions) Data 2003-2022\n",
    "# from https://www.macrotrends.net/countries/USA/united-states/gdp-gross-domestic-product\n",
    "us_gdp = [\n",
    "    11456.44,\n",
    "    12217.19,\n",
    "    13039.20,\n",
    "    13815.59,\n",
    "    14474.23,\n",
    "    14769.86,\n",
    "    14478.06,\n",
    "    15048.96,\n",
    "    15599.73,\n",
    "    16253.97,\n",
    "    16843.19,\n",
    "    17550.68,\n",
    "    18206.02,\n",
    "    18695.11,\n",
    "    19477.34,\n",
    "    20533.06,\n",
    "    21380.98,\n",
    "    21060.47,\n",
    "    23315.08,\n",
    "    25462.70\n",
    "]\n",
    "\n",
    "\n",
    "# GDP for 2023 (best estimate)"
   ]
  },
  {
   "cell_type": "code",
   "execution_count": null,
   "metadata": {},
   "outputs": [],
   "source": [
    "# US population\n",
    "# Using beautifulsoup from same website\n",
    "url_pop = 'https://www.macrotrends.net/countries/USA/united-states/population'\n",
    "content_pop = requests.get(url_pop, headers=headers)"
   ]
  },
  {
   "cell_type": "code",
   "execution_count": 116,
   "metadata": {},
   "outputs": [
    {
     "name": "stdout",
     "output_type": "stream",
     "text": [
      "[291109820, 293947885, 296842670, 299753098, 302743399, 305694910, 308512035, 311182845, 313876608, 316651321, 319375166, 322033964, 324607776, 327210198, 329791231, 332140037, 334319671, 335942003, 336997624, 338289857, 339996563]\n"
     ]
    }
   ],
   "source": [
    "s = BeautifulSoup(content_pop.text, 'html.parser')\n",
    "\n",
    "# select table\n",
    "a = s.find_all('table', class_='historical_data_table table table-striped table-bordered')[1]\n",
    "\n",
    "# starts from idx 2 is 2023, idx 22 is 2003\n",
    "us_pop = []\n",
    "\n",
    "for i in range(22, 1, -1):\n",
    "    us_pop.append(int(a.find_all('tr')[i].text.strip()[5:16].replace(',', '')))"
   ]
  },
  {
   "cell_type": "code",
   "execution_count": 117,
   "metadata": {},
   "outputs": [],
   "source": [
    "# US median income\n",
    "# From Statista\n",
    "url_income = 'https://www.statista.com/statistics/200838/median-household-income-in-the-united-states/'\n",
    "content_income = requests.get(url_income, headers=headers)"
   ]
  },
  {
   "cell_type": "code",
   "execution_count": 118,
   "metadata": {},
   "outputs": [],
   "source": [
    "# Unemployment rate\n",
    "# from investopedia\n",
    "\n",
    "url_unem = 'https://www.investopedia.com/historical-us-unemployment-rate-by-year-7495494'\n",
    "content_unem = requests.get(url_unem, headers=headers)"
   ]
  },
  {
   "cell_type": "code",
   "execution_count": 152,
   "metadata": {},
   "outputs": [],
   "source": [
    "unem = BeautifulSoup(content_unem.text, 'html.parser')\n",
    "\n",
    "us_unem = []\n",
    "# 2003 to 2022 occurs at 76 through 95\n",
    "for i in range(76, 96):\n",
    "    data = unem.find('table', class_='mntl-sc-block-table__table').find_all('tr')[i].text\n",
    "    us_unem.append(float(data[6:data.find('%')]))"
   ]
  },
  {
   "cell_type": "code",
   "execution_count": 154,
   "metadata": {},
   "outputs": [
    {
     "ename": "SyntaxError",
     "evalue": "':' expected after dictionary key (2164425181.py, line 4)",
     "output_type": "error",
     "traceback": [
      "\u001b[0;36m  Cell \u001b[0;32mIn [154], line 4\u001b[0;36m\u001b[0m\n\u001b[0;31m    'unemployment_rate', us_unem\u001b[0m\n\u001b[0m                      ^\u001b[0m\n\u001b[0;31mSyntaxError\u001b[0m\u001b[0;31m:\u001b[0m ':' expected after dictionary key\n"
     ]
    }
   ],
   "source": [
    "variables = {\n",
    "    'gdp' : us_gdp,\n",
    "    'population' : us_pop,\n",
    "    'unemployment_rate': us_unem\n",
    "}"
   ]
  }
 ],
 "metadata": {
  "kernelspec": {
   "display_name": "Python 3",
   "language": "python",
   "name": "python3"
  },
  "language_info": {
   "codemirror_mode": {
    "name": "ipython",
    "version": 3
   },
   "file_extension": ".py",
   "mimetype": "text/x-python",
   "name": "python",
   "nbconvert_exporter": "python",
   "pygments_lexer": "ipython3",
   "version": "3.11.0"
  }
 },
 "nbformat": 4,
 "nbformat_minor": 2
}
